{
 "cells": [
  {
   "cell_type": "code",
   "execution_count": 55,
   "metadata": {},
   "outputs": [
    {
     "name": "stdout",
     "output_type": "stream",
     "text": [
      "write your first name dali\n",
      "write your last name dalii\n",
      "dalii dali\n"
     ]
    }
   ],
   "source": [
    "str_1 = input ('write your first name ')\n",
    "str_2 = input ('write your last name ')\n",
    "str_3 = str_2+' '+ str_1\n",
    "print ( str_3 )"
   ]
  },
  {
   "cell_type": "code",
   "execution_count": 57,
   "metadata": {},
   "outputs": [
    {
     "name": "stdout",
     "output_type": "stream",
     "text": [
      "write your first name ines\n",
      "write your last name bellaaj\n",
      "bellaaj ines\n"
     ]
    }
   ],
   "source": [
    "str_1 = input ('write your first name ')\n",
    "str_2 = input ('write your last name ')\n",
    "print (str_2,str_1)"
   ]
  },
  {
   "cell_type": "code",
   "execution_count": 15,
   "metadata": {},
   "outputs": [
    {
     "name": "stdout",
     "output_type": "stream",
     "text": [
      "write a number5\n",
      "615\n"
     ]
    }
   ],
   "source": [
    "n = input ('write a number')\n",
    "nn = n + n\n",
    "nnn = n + n + n\n",
    "nbre = int(n) +int(nn) + int(nnn)\n",
    "print (nbre)\n"
   ]
  },
  {
   "cell_type": "code",
   "execution_count": 16,
   "metadata": {},
   "outputs": [
    {
     "name": "stdout",
     "output_type": "stream",
     "text": [
      "write a number5\n",
      "615\n"
     ]
    }
   ],
   "source": [
    "n = input ('write a number')\n",
    "n = int (n)\n",
    "nn = n*11\n",
    "nnn = n*111\n",
    "nbre = n + nn + nnn\n",
    "print (nbre)"
   ]
  },
  {
   "cell_type": "code",
   "execution_count": 22,
   "metadata": {},
   "outputs": [
    {
     "name": "stdout",
     "output_type": "stream",
     "text": [
      "write a number85\n",
      "it is an odd number\n"
     ]
    }
   ],
   "source": [
    "n = input ('write a number')\n",
    "n = int(n)\n",
    "if n % 2 == 0:\n",
    "    print ('it is an even number')\n",
    "else:\n",
    "    print ('it is an odd number')\n"
   ]
  },
  {
   "cell_type": "code",
   "execution_count": 58,
   "metadata": {},
   "outputs": [
    {
     "name": "stdout",
     "output_type": "stream",
     "text": [
      "write a number1850\n",
      "it is not a leap year\n"
     ]
    }
   ],
   "source": [
    "n = input ('write a number')\n",
    "if  n[-1]+n[-2] != '00'  and  int (n) % 4 == 0 :\n",
    "    \n",
    "    \n",
    "            print ('it is a leap year')\n",
    "else :\n",
    "            print ('it is not a leap year')\n",
    "    \n"
   ]
  },
  {
   "cell_type": "code",
   "execution_count": 33,
   "metadata": {},
   "outputs": [
    {
     "name": "stdout",
     "output_type": "stream",
     "text": [
      "write a name hello team\n",
      "hlota\n"
     ]
    }
   ],
   "source": [
    "ch = input ('write a name ')\n",
    "result= ''\n",
    "for i in range (len(ch)):\n",
    "if i % 2 == 0 :\n",
    "       result +=  ch[i]\n",
    "print (result)       \n",
    "        \n",
    "        \n",
    "        \n",
    "        \n",
    "        \n",
    "        "
   ]
  },
  {
   "cell_type": "code",
   "execution_count": 36,
   "metadata": {},
   "outputs": [
    {
     "name": "stdout",
     "output_type": "stream",
     "text": [
      "write a namehello team\n"
     ]
    },
    {
     "ename": "TypeError",
     "evalue": "'str' object is not callable",
     "output_type": "error",
     "traceback": [
      "\u001b[1;31m---------------------------------------------------------------------------\u001b[0m",
      "\u001b[1;31mTypeError\u001b[0m                                 Traceback (most recent call last)",
      "\u001b[1;32m<ipython-input-36-bc31fe085237>\u001b[0m in \u001b[0;36m<module>\u001b[1;34m\u001b[0m\n\u001b[0;32m      1\u001b[0m \u001b[0mch\u001b[0m \u001b[1;33m=\u001b[0m \u001b[0minput\u001b[0m \u001b[1;33m(\u001b[0m\u001b[1;34m'write a name'\u001b[0m \u001b[1;33m)\u001b[0m\u001b[1;33m\u001b[0m\u001b[1;33m\u001b[0m\u001b[0m\n\u001b[0;32m      2\u001b[0m \u001b[0mresult\u001b[0m \u001b[1;33m=\u001b[0m \u001b[1;34m''\u001b[0m\u001b[1;33m\u001b[0m\u001b[1;33m\u001b[0m\u001b[0m\n\u001b[1;32m----> 3\u001b[1;33m \u001b[0mresult\u001b[0m \u001b[1;33m=\u001b[0m \u001b[0mch\u001b[0m \u001b[1;33m(\u001b[0m\u001b[1;36m0\u001b[0m \u001b[1;33m,\u001b[0m \u001b[0mlen\u001b[0m\u001b[1;33m(\u001b[0m\u001b[0mch\u001b[0m\u001b[1;33m)\u001b[0m \u001b[1;33m,\u001b[0m \u001b[1;36m2\u001b[0m\u001b[1;33m)\u001b[0m\u001b[1;33m\u001b[0m\u001b[1;33m\u001b[0m\u001b[0m\n\u001b[0m",
      "\u001b[1;31mTypeError\u001b[0m: 'str' object is not callable"
     ]
    }
   ],
   "source": [
    "ch = input ('write a name' )\n",
    "result = ''\n",
    "result = ch (0 , len(ch) , 2)"
   ]
  },
  {
   "cell_type": "code",
   "execution_count": 39,
   "metadata": {},
   "outputs": [
    {
     "data": {
      "text/plain": [
       "'hlota'"
      ]
     },
     "execution_count": 39,
     "metadata": {},
     "output_type": "execute_result"
    }
   ],
   "source": [
    "ch[::2]"
   ]
  },
  {
   "cell_type": "code",
   "execution_count": 53,
   "metadata": {},
   "outputs": [
    {
     "name": "stdout",
     "output_type": "stream",
     "text": [
      "write your price600\n",
      "300.0\n"
     ]
    }
   ],
   "source": [
    "n = int(input('write your price'))\n",
    "if n >= 500 :\n",
    "     n = n - (n/2)\n",
    "elif  n>=200 and n<500 :\n",
    "     n = n * 0.7 \n",
    "else :\n",
    "       n = n * 0.1\n",
    "print (n)"
   ]
  },
  {
   "cell_type": "code",
   "execution_count": null,
   "metadata": {},
   "outputs": [],
   "source": []
  },
  {
   "cell_type": "code",
   "execution_count": null,
   "metadata": {},
   "outputs": [],
   "source": []
  }
 ],
 "metadata": {
  "kernelspec": {
   "display_name": "Python 3",
   "language": "python",
   "name": "python3"
  }
 },
 "nbformat": 4,
 "nbformat_minor": 4
}
